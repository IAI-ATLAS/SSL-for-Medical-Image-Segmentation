{
 "cells": [
  {
   "cell_type": "code",
   "execution_count": 2,
   "metadata": {},
   "outputs": [],
   "source": [
    "from copy import deepcopy\n",
    "\n",
    "def get_cfg_clusters(run_lst, cluster_cfg_lst):\n",
    "    run_lst_cp = deepcopy(run_lst)\n",
    "    cfgs= [run_lst_cp[ix].config for ix in range(len(run_lst_cp))]\n",
    "\n",
    "    for ix in range(len(cfgs)):\n",
    "        for key in cluster_cfg_lst:\n",
    "            del cfgs[ix][key]\n",
    "\n",
    "    selected_id = list()\n",
    "    cluster_lst = list()\n",
    "\n",
    "    for ix in range(len(cfgs)):\n",
    "        if ix not in selected_id:\n",
    "            cluster_lst.append([ix])\n",
    "            selected_id.append(ix)\n",
    "            for iy in range(ix+1,len(cfgs)):\n",
    "                if cfgs[ix]==cfgs[iy]:\n",
    "                    cluster_lst[-1].append(iy)\n",
    "                    selected_id.append(iy)\n",
    "\n",
    "    \n",
    "    return cluster_lst"
   ]
  },
  {
   "cell_type": "code",
   "execution_count": 3,
   "metadata": {},
   "outputs": [],
   "source": [
    "from scipy.integrate import quad\n",
    "from scipy.interpolate import UnivariateSpline, interp1d\n",
    "\n",
    "\n",
    "def compute_norm_integral_metric(ratio, score, benchmark_score):\n",
    "    f = interp1d(ratio, score)\n",
    "    metric = quad(f, ratio[0], ratio[-1])[0] \\\n",
    "        /((ratio[-1]-ratio[0])*benchmark_score)\n",
    "    return metric"
   ]
  },
  {
   "cell_type": "code",
   "execution_count": 13,
   "metadata": {},
   "outputs": [
    {
     "name": "stdout",
     "output_type": "stream",
     "text": [
      "[[0, 18, 36, 54, 72, 90, 108, 126, 144, 162, 180, 198, 216, 234, 252, 270, 288, 306, 324, 342, 360, 378, 396, 414, 432, 450, 468, 486, 504, 522, 540, 558, 576, 594, 614], [1, 19, 37, 55, 73, 91, 109, 127, 145, 163, 181, 199, 217, 235, 253, 271, 289, 307, 325, 343, 361, 379, 397, 415, 433, 451, 469, 487, 505, 523, 541, 559, 577, 595, 617], [2, 20, 38, 56, 74, 92, 110, 128, 146, 164, 182, 200, 218, 236, 254, 272, 290, 308, 326, 344, 362, 380, 398, 416, 434, 452, 470, 488, 506, 524, 542, 560, 578, 596, 615], [3, 21, 39, 57, 75, 93, 111, 129, 147, 165, 183, 201, 219, 237, 255, 273, 291, 309, 327, 345, 363, 381, 399, 417, 435, 453, 471, 489, 507, 525, 543, 561, 579, 597, 616], [4, 22, 40, 58, 76, 94, 112, 130, 148, 166, 184, 202, 220, 238, 256, 274, 292, 310, 328, 346, 364, 382, 400, 418, 436, 454, 472, 490, 508, 526, 544, 562, 580, 598, 613], [5, 23, 41, 59, 77, 95, 113, 131, 149, 167, 185, 203, 221, 239, 257, 275, 293, 311, 329, 347, 365, 383, 401, 419, 437, 455, 473, 491, 509, 527, 545, 563, 581, 599, 611], [6, 24, 42, 60, 78, 96, 114, 132, 150, 168, 186, 204, 222, 240, 258, 276, 294, 312, 330, 348, 366, 384, 402, 420, 438, 456, 474, 492, 510, 528, 546, 564, 582, 600, 620], [7, 25, 43, 61, 79, 97, 115, 133, 151, 169, 187, 205, 223, 241, 259, 277, 295, 313, 331, 349, 367, 385, 403, 421, 439, 457, 475, 493, 511, 529, 547, 565, 583, 601, 621], [8, 26, 44, 62, 80, 98, 116, 134, 152, 170, 188, 206, 224, 242, 260, 278, 296, 314, 332, 350, 368, 387, 404, 422, 440, 458, 476, 494, 512, 530, 548, 566, 584, 604, 618], [9, 27, 45, 63, 81, 99, 117, 135, 153, 171, 189, 207, 225, 243, 261, 279, 297, 315, 333, 351, 369, 386, 405, 423, 441, 459, 477, 495, 513, 531, 549, 567, 585, 602, 619], [10, 28, 46, 64, 82, 100, 118, 136, 154, 172, 190, 208, 226, 244, 263, 280, 298, 316, 334, 352, 370, 388, 406, 424, 442, 460, 478, 496, 514, 532, 550, 568, 586, 603, 622], [11, 29, 47, 65, 83, 101, 119, 137, 155, 173, 191, 209, 227, 245, 262, 281, 299, 317, 335, 353, 371, 389, 407, 425, 443, 461, 479, 497, 515, 533, 551, 569, 587, 606, 625], [12, 30, 48, 66, 84, 102, 120, 138, 157, 174, 192, 210, 228, 246, 264, 282, 300, 318, 336, 354, 372, 390, 408, 426, 444, 462, 480, 498, 516, 534, 552, 570, 588, 609, 623], [13, 31, 49, 67, 85, 103, 121, 139, 156, 175, 193, 211, 229, 247, 265, 283, 301, 319, 337, 355, 373, 391, 409, 427, 445, 463, 481, 499, 517, 535, 553, 571, 589, 605, 624], [14, 32, 50, 68, 86, 104, 122, 140, 158, 176, 194, 212, 230, 248, 266, 284, 302, 320, 338, 356, 374, 392, 410, 428, 446, 464, 482, 500, 518, 536, 554, 572, 590, 607, 626], [15, 33, 51, 69, 87, 105, 123, 141, 159, 177, 195, 213, 231, 249, 267, 285, 303, 321, 339, 357, 375, 393, 411, 429, 447, 465, 483, 501, 519, 537, 555, 573, 591, 608, 627], [16, 34, 52, 70, 88, 106, 124, 142, 160, 178, 196, 214, 232, 250, 268, 286, 304, 322, 340, 358, 376, 394, 412, 430, 448, 466, 484, 502, 520, 538, 556, 574, 592, 610, 628], [17, 35, 53, 71, 89, 107, 125, 143, 161, 179, 197, 215, 233, 251, 269, 287, 305, 323, 341, 359, 377, 395, 413, 431, 449, 467, 485, 503, 521, 539, 557, 575, 593, 612, 629]]\n"
     ]
    }
   ],
   "source": [
    "import wandb\n",
    "import pandas as pd \n",
    "\n",
    "api = wandb.Api()\n",
    "#runs = api.runs(\"kit-iai-ibcs-dl/derma_ssl/gj0ge845\")\n",
    "runs = api.sweep(\"kit-iai-ibcs-dl/derma_ssl/gj0ge845\").runs\n",
    "\n",
    "\n",
    "cluster_lst_seed_labeled_ratio = get_cfg_clusters(runs, [\"experiment.seed\", \"data.datamodule.arguments.initial_labeled_ratio\"])\n",
    "\n",
    "print(cluster_lst_seed_labeled_ratio)\n",
    "\n"
   ]
  },
  {
   "cell_type": "code",
   "execution_count": 4,
   "metadata": {},
   "outputs": [],
   "source": [
    "import numpy as np\n",
    "import matplotlib.pyplot as plt\n",
    "import pandas as pd\n",
    "\n",
    "result_lst = list()\n",
    "\n",
    "for cluster in cluster_lst_seed_labeled_ratio:\n",
    "    values_dict={}\n",
    "    df = pd.DataFrame(columns=[\"ratio\", \"seed\", \"score\"])\n",
    "    for run_index in cluster:\n",
    "        run_i = runs[run_index]\n",
    "        df = df.append({\n",
    "            \"ratio\": run_i.config[\"data.datamodule.arguments.initial_labeled_ratio\"], \n",
    "            \"seed\": run_i.config[\"experiment.seed\"] , \n",
    "            \"score\": run_i.summary[\"test/score\"]}, \n",
    "            ignore_index=True)\n",
    "\n",
    "    seeds = np.unique(df[\"seed\"].to_numpy())\n",
    "\n",
    "    df = df.sort_values(by=[\"ratio\"])\n",
    "\n",
    "    result_dict = dict()\n",
    "    result_dict[\"ratio\"] = list()\n",
    "    result_dict[\"score\"] = list()\n",
    "\n",
    "    for seed in seeds:\n",
    "        result_dict[\"ratio\"].append(df[df[\"seed\"]==seed][\"ratio\"].to_numpy())\n",
    "        result_dict[\"score\"].append(df[df[\"seed\"]==seed][\"score\"].to_numpy())\n",
    "\n",
    "    result_dict[\"cfg\"] = run_i.config\n",
    "\n",
    "    result_lst.append(result_dict)"
   ]
  },
  {
   "cell_type": "code",
   "execution_count": 5,
   "metadata": {},
   "outputs": [],
   "source": [
    "def select_results(result_lst, selection_dict):\n",
    "    filtered_result_lst = list()\n",
    "    for res in result_lst:\n",
    "        cfg = res[\"cfg\"]\n",
    "        match = True\n",
    "        for key, value in selection_dict.items():\n",
    "            if cfg[key] != value:\n",
    "                match = False\n",
    "                break\n",
    "        \n",
    "        if match:\n",
    "            filtered_result_lst.append(res)\n",
    "\n",
    "    return filtered_result_lst\n"
   ]
  },
  {
   "cell_type": "code",
   "execution_count": 22,
   "metadata": {},
   "outputs": [],
   "source": [
    "from scipy.stats import ttest_ind \n",
    "\n",
    "def ssl_t_test(random, ssl, benchmark_score):\n",
    "    random_metric = list()\n",
    "    ssl_metric = list()\n",
    "\n",
    "    for i in range(len(ssl[\"ratio\"])):\n",
    "        ssl_metric.append(compute_norm_integral_metric(ssl[\"ratio\"][i], ssl[\"score\"][i], benchmark_score))\n",
    "        random_metric.append(compute_norm_integral_metric(random[\"ratio\"][i], random[\"score\"][i], benchmark_score))\n",
    "\n",
    "    return ttest_ind(random_metric, ssl_metric, alternative='less').pvalue, np.mean(random_metric), np.mean(ssl_metric) "
   ]
  },
  {
   "cell_type": "code",
   "execution_count": 26,
   "metadata": {},
   "outputs": [
    {
     "name": "stdout",
     "output_type": "stream",
     "text": [
      "moco\n",
      "p-val: 2.407707955796626e-06, mean ssl: 0.9603583634187041, mean random: 0.9190640340783238\n",
      "\n",
      "\n",
      "densecl\n",
      "p-val: 2.3866281814787716e-06, mean ssl: 0.9629926252830614, mean random: 0.9190640340783238\n",
      "\n",
      "\n",
      "modeco\n",
      "p-val: 0.0001341568125323907, mean ssl: 0.9587608789348302, mean random: 0.9190640340783238\n",
      "\n",
      "\n",
      "imagenet\n",
      "p-val: 4.350084373073318e-06, mean ssl: 0.9538593496732902, mean random: 0.9190640340783238\n",
      "\n",
      "\n",
      "byol\n",
      "p-val: 5.5039252983591466e-05, mean ssl: 0.9494684577811279, mean random: 0.9190640340783238\n",
      "\n",
      "\n",
      "barlow_twins\n",
      "p-val: 0.019263428758223403, mean ssl: 0.928017559666545, mean random: 0.9190640340783238\n",
      "\n",
      "\n",
      "detco\n",
      "p-val: 0.9910915407070491, mean ssl: 0.9026710799330763, mean random: 0.9190640340783238\n",
      "\n",
      "\n",
      "simclr\n",
      "p-val: 8.413423173273828e-06, mean ssl: 0.9563638844350691, mean random: 0.9190640340783238\n",
      "\n",
      "\n"
     ]
    }
   ],
   "source": [
    "benchmark_score = 0.8217\n",
    "\n",
    "ssl_methods = dict()\n",
    "\n",
    "selection_dict = dict()\n",
    "selection_dict[\"model.params.encoder_frozen\"] = True\n",
    "\n",
    "selection_dict[\"model.params.pretraining_weights\"] = None\n",
    "random = select_results(result_lst, selection_dict)[0]\n",
    "\n",
    "selection_dict[\"model.params.pretraining_weights\"] = \"/lsdf/kit/iai/projects/iai-aida/Daten_Schilling/2022_SSL_experiments/ssl_weights/moco/dnn_weights.ckpt\"\n",
    "ssl_methods[\"moco\"] = select_results(result_lst, selection_dict)[0]\n",
    "\n",
    "selection_dict[\"model.params.pretraining_weights\"] = \"/lsdf/kit/iai/projects/iai-aida/Daten_Schilling/2022_SSL_experiments/ssl_weights/densecl/dnn_weights.ckpt\"\n",
    "ssl_methods[\"densecl\"] = select_results(result_lst, selection_dict)[0]\n",
    "\n",
    "selection_dict[\"model.params.pretraining_weights\"] = \"/lsdf/kit/iai/projects/iai-aida/Daten_Schilling/2022_SSL_experiments/ssl_weights/modeco/dnn_weights.ckpt\"\n",
    "ssl_methods[\"modeco\"] = select_results(result_lst, selection_dict)[0]\n",
    "\n",
    "selection_dict[\"model.params.pretraining_weights\"] = \"imagenet\"\n",
    "ssl_methods[\"imagenet\"] = select_results(result_lst, selection_dict)[0]\n",
    "\n",
    "selection_dict[\"model.params.pretraining_weights\"] = \"/lsdf/kit/iai/projects/iai-aida/Daten_Schilling/2022_SSL_experiments/ssl_weights/byol/dnn_weights.ckpt\"\n",
    "ssl_methods[\"byol\"] = select_results(result_lst, selection_dict)[0]\n",
    "\n",
    "selection_dict[\"model.params.pretraining_weights\"] = \"/lsdf/kit/iai/projects/iai-aida/Daten_Schilling/2022_SSL_experiments/ssl_weights/barlow_twins/dnn_weights.ckpt\"\n",
    "ssl_methods[\"barlow_twins\"] = select_results(result_lst, selection_dict)[0]\n",
    "\n",
    "selection_dict[\"model.params.pretraining_weights\"] = \"/lsdf/kit/iai/projects/iai-aida/Daten_Schilling/2022_SSL_experiments/ssl_weights/detco/dnn_weights.ckpt\"\n",
    "ssl_methods[\"detco\"] = select_results(result_lst, selection_dict)[0]\n",
    "\n",
    "selection_dict[\"model.params.pretraining_weights\"] = \"/lsdf/kit/iai/projects/iai-aida/Daten_Schilling/2022_SSL_experiments/ssl_weights/simclr/dnn_weights.ckpt\"\n",
    "ssl_methods[\"simclr\"] = select_results(result_lst, selection_dict)[0]\n",
    "\n",
    "\n",
    "for key,value in ssl_methods.items(): \n",
    "    print(key)\n",
    "    p_value, mean_random, mean_ssl = ssl_t_test(random, value, benchmark_score)\n",
    "    print(f\"p-val: {p_value}, mean ssl: {mean_ssl}, mean random: {mean_random}\")\n",
    "    print(\"\\n\")\n",
    "\n",
    "\n",
    "\n",
    "\n",
    "\n",
    "\n",
    "\n",
    "\n",
    "\n",
    "\n"
   ]
  },
  {
   "cell_type": "code",
   "execution_count": 136,
   "metadata": {},
   "outputs": [],
   "source": [
    "selection_dict = dict()\n",
    "selection_dict[\"model.params.encoder_frozen\"] = True\n",
    "\n",
    "selection_dict[\"model.params.pretraining_weights\"] = \"/lsdf/kit/iai/projects/iai-aida/Daten_Schilling/2022_SSL_experiments/ssl_weights/moco/dnn_weights.ckpt\"\n",
    "moco = select_results(result_lst, selection_dict)\n",
    "\n",
    "selection_dict[\"model.params.pretraining_weights\"] = \"/lsdf/kit/iai/projects/iai-aida/Daten_Schilling/2022_SSL_experiments/ssl_weights/densecl/dnn_weights.ckpt\"\n",
    "densecl = select_results(result_lst, selection_dict)\n",
    "\n",
    "selection_dict[\"model.params.pretraining_weights\"] = None\n",
    "random = select_results(result_lst, selection_dict)\n",
    "\n",
    "selection_dict[\"model.params.pretraining_weights\"] = \"/lsdf/kit/iai/projects/iai-aida/Daten_Schilling/2022_SSL_experiments/ssl_weights/modeco/dnn_weights.ckpt\"\n",
    "modeco = select_results(result_lst, selection_dict)\n",
    "\n",
    "selection_dict[\"model.params.pretraining_weights\"] = \"imagenet\"\n",
    "imagenet = select_results(result_lst, selection_dict)\n",
    "\n",
    "selection_dict[\"model.params.pretraining_weights\"] = \"/lsdf/kit/iai/projects/iai-aida/Daten_Schilling/2022_SSL_experiments/ssl_weights/byol/dnn_weights.ckpt\"\n",
    "byol = select_results(result_lst, selection_dict)\n",
    "\n",
    "selection_dict[\"model.params.pretraining_weights\"] = \"/lsdf/kit/iai/projects/iai-aida/Daten_Schilling/2022_SSL_experiments/ssl_weights/barlow_twins/dnn_weights.ckpt\"\n",
    "barlow_twins = select_results(result_lst, selection_dict)\n",
    "\n",
    "selection_dict[\"model.params.pretraining_weights\"] = \"/lsdf/kit/iai/projects/iai-aida/Daten_Schilling/2022_SSL_experiments/ssl_weights/detco/dnn_weights.ckpt\"\n",
    "detco = select_results(result_lst, selection_dict)\n",
    "\n",
    "selection_dict[\"model.params.pretraining_weights\"] = \"/lsdf/kit/iai/projects/iai-aida/Daten_Schilling/2022_SSL_experiments/ssl_weights/simclr/dnn_weights.ckpt\"\n",
    "simclr = select_results(result_lst, selection_dict)"
   ]
  },
  {
   "cell_type": "code",
   "execution_count": 137,
   "metadata": {},
   "outputs": [
    {
     "data": {
      "text/plain": [
       "Text(0.5, 1.0, 'Frozen')"
      ]
     },
     "execution_count": 137,
     "metadata": {},
     "output_type": "execute_result"
    },
    {
     "data": {
      "image/png": "[encoded data removed]",
      "text/plain": [
       "<Figure size 432x288 with 1 Axes>"
      ]
     },
     "metadata": {
      "needs_background": "light"
     },
     "output_type": "display_data"
    }
   ],
   "source": [
    "moco_score = np.array(sorted(moco[0][\"mean\"].items()))\n",
    "modeco_score = np.array(sorted(modeco[0][\"mean\"].items()))\n",
    "random_score = np.array(sorted(random[0][\"mean\"].items()))\n",
    "imagenet_score = np.array(sorted(imagenet[0][\"mean\"].items()))\n",
    "densecl_score = np.array(sorted(densecl[0][\"mean\"].items()))\n",
    "byol_score = np.array(sorted(byol[0][\"mean\"].items()))\n",
    "barlow_twins_score = np.array(sorted(barlow_twins[0][\"mean\"].items()))\n",
    "detco_score = np.array(sorted(detco[0][\"mean\"].items()))\n",
    "simclr_score = np.array(sorted(simclr[0][\"mean\"].items()))\n",
    "\n",
    "df = pd.DataFrame(moco_score.copy(), columns=['ratio', 'moco']) \n",
    "df[\"moco\"] = df[\"moco\"]/random_score[:,1]-1\n",
    "df[\"modeco\"] = modeco_score[:,1]/random_score[:,1]-1\n",
    "df[\"densecl\"] = densecl_score[:,1]/random_score[:,1]-1\n",
    "df[\"random\"] = random_score[:,1]/random_score[:,1]-1\n",
    "df[\"imagenet\"] = imagenet_score[:,1]/random_score[:,1]-1\n",
    "df[\"byol\"] = byol_score[:,1]/random_score[:,1]-1\n",
    "df[\"barlow_twins\"] = barlow_twins_score[:,1]/random_score[:,1]-1\n",
    "df[\"densecl\"] = densecl_score[:,1]/random_score[:,1]-1\n",
    "df[\"detco\"] = detco_score[:,1]/random_score[:,1]-1\n",
    "df[\"simclr\"] = simclr_score[:,1]/random_score[:,1]-1\n",
    "\n",
    "df.plot(x=\"ratio\")\n",
    "plt.title(\"Frozen\")"
   ]
  },
  {
   "cell_type": "code",
   "execution_count": 112,
   "metadata": {},
   "outputs": [],
   "source": [
    "def compute_norm_integral_metric(ratio_score_array, benchmark_score):\n",
    "    f = interp1d(ratio_score_array[:,0], ratio_score_array[:,1])\n",
    "    score = quad(f, ratio_score_array[0,0], ratio_score_array[-1,0])[0] \\\n",
    "        /((ratio_score_array[-1,0]-ratio_score_array[0,0])*benchmark_score)\n",
    "    return score"
   ]
  },
  {
   "cell_type": "code",
   "execution_count": 139,
   "metadata": {},
   "outputs": [
    {
     "name": "stdout",
     "output_type": "stream",
     "text": [
      "0.9410239741502584\n"
     ]
    },
    {
     "data": {
      "image/png": "[encoded data removed]",
      "text/plain": [
       "<Figure size 432x288 with 1 Axes>"
      ]
     },
     "metadata": {
      "needs_background": "light"
     },
     "output_type": "display_data"
    }
   ],
   "source": [
    "\n",
    "plt.plot(moco_score[:,0], moco_score[:,1])\n",
    "\n",
    "benchmark_score = 0.8217\n",
    "\n",
    "\n",
    "print(compute_norm_integral_metric(densecl_score,benchmark_score))"
   ]
  }
 ],
 "metadata": {
  "kernelspec": {
   "display_name": "Python 3.8.5 ('self-supervised-biomedical-image-segmentation')",
   "language": "python",
   "name": "python3"
  },
  "language_info": {
   "codemirror_mode": {
    "name": "ipython",
    "version": 3
   },
   "file_extension": ".py",
   "mimetype": "text/x-python",
   "name": "python",
   "nbconvert_exporter": "python",
   "pygments_lexer": "ipython3",
   "version": "3.8.5"
  },
  "orig_nbformat": 4,
  "vscode": {
   "interpreter": {
    "hash": "1d79f96ba120c74a43db28e47bdb32bf39b949fad216312144573f32bb1a0500"
   }
  }
 },
 "nbformat": 4,
 "nbformat_minor": 2
}
